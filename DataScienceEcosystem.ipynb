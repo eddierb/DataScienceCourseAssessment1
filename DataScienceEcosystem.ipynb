{
 "cells": [
  {
   "cell_type": "markdown",
   "id": "c1c2b2e2-753f-4950-8376-e3ee3c7de2d1",
   "metadata": {},
   "source": [
    "# Data Science Tools and Ecosystem"
   ]
  },
  {
   "cell_type": "markdown",
   "id": "2ee813cd-a140-482e-9a69-882381df18dc",
   "metadata": {},
   "source": [
    "In this notebook, Data Science Tools and Ecosystem are summarized."
   ]
  },
  {
   "cell_type": "markdown",
   "id": "4fc72d17-2e5b-4022-bced-bdcd64a40ecc",
   "metadata": {},
   "source": [
    "__Objectives:__\n",
    "- List popular languages for Data Science\n",
    "- List commonly used libraries by Data Scientists\n",
    "- Show Data Science Tools in a table\n",
    "- Demonstrate arithmetic expresions in Python"
   ]
  },
  {
   "cell_type": "markdown",
   "id": "a4e20b49-5652-492b-b67a-a3783b252e7b",
   "metadata": {},
   "source": [
    "Some of the popular languages that Data Scientists use are:\n",
    "1. Python\n",
    "2. R\n",
    "3. SQL\n",
    "4. SPSS"
   ]
  },
  {
   "cell_type": "markdown",
   "id": "776eacc0-7608-4cff-9f59-e474b414168a",
   "metadata": {},
   "source": [
    "Some of the commonly used libraries used by Data Scientists include:\n",
    "1. numPy\n",
    "2. Pandas\n",
    "3. Tensorflow\n",
    "4. Scikit-Learn"
   ]
  },
  {
   "cell_type": "markdown",
   "id": "a7ee89c3-7a2e-45ff-8870-7eb27b515fef",
   "metadata": {},
   "source": [
    "| Data Science Tools |\n",
    "| ----- |\n",
    "| Jupyter Notebooks |\n",
    "| Apache Spark |\n",
    "| Tableau |"
   ]
  },
  {
   "cell_type": "markdown",
   "id": "7d42232f-b705-4354-bd69-1a18342e5b7c",
   "metadata": {},
   "source": [
    "### Below are a few examples of evaluating arithmetic expressions in Python"
   ]
  },
  {
   "cell_type": "code",
   "execution_count": 19,
   "id": "974e8b16-34b2-4368-ac8a-e4ea37a1c817",
   "metadata": {},
   "outputs": [
    {
     "data": {
      "text/plain": [
       "17"
      ]
     },
     "execution_count": 19,
     "metadata": {},
     "output_type": "execute_result"
    }
   ],
   "source": [
    "(3*4)+5\n",
    "# This a simple arithmetic expression to mutiply then add integers"
   ]
  },
  {
   "cell_type": "code",
   "execution_count": 21,
   "id": "d86e42fe-5d01-4c97-a148-b8ada3aed474",
   "metadata": {},
   "outputs": [
    {
     "name": "stdout",
     "output_type": "stream",
     "text": [
      "3.3333333333333335\n"
     ]
    }
   ],
   "source": [
    "# This will convert 200 minutes to hours by diving by 60\n",
    "minutes = 200\n",
    "hours = minutes / 60\n",
    "\n",
    "print(hours)"
   ]
  },
  {
   "cell_type": "markdown",
   "id": "4b3f8254-c0b1-465d-a767-01bbff9ffb82",
   "metadata": {},
   "source": [
    "## Author\n",
    "Eddie B"
   ]
  },
  {
   "cell_type": "code",
   "execution_count": null,
   "id": "61e5aa08-d246-486f-ae31-8e6759df2118",
   "metadata": {},
   "outputs": [],
   "source": []
  }
 ],
 "metadata": {
  "kernelspec": {
   "display_name": "Python 3 (ipykernel)",
   "language": "python",
   "name": "python3"
  },
  "language_info": {
   "codemirror_mode": {
    "name": "ipython",
    "version": 3
   },
   "file_extension": ".py",
   "mimetype": "text/x-python",
   "name": "python",
   "nbconvert_exporter": "python",
   "pygments_lexer": "ipython3",
   "version": "3.12.4"
  }
 },
 "nbformat": 4,
 "nbformat_minor": 5
}
